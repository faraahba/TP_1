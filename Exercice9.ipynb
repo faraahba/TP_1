{
 "cells": [
  {
   "cell_type": "code",
   "execution_count": 24,
   "id": "7d3f21e1-ecee-4149-bbec-a2c53ea2de3d",
   "metadata": {},
   "outputs": [
    {
     "name": "stdin",
     "output_type": "stream",
     "text": [
      "entrer un nombre: 3\n"
     ]
    },
    {
     "name": "stdout",
     "output_type": "stream",
     "text": [
      "1\n",
      "3 n'est pas un nombre parfait\n"
     ]
    }
   ],
   "source": [
    "\n",
    "def NbParfait(n):\n",
    "    somme = 0\n",
    "    for i in range(1,n):\n",
    "        if n%i == 0 :\n",
    "            somme = somme+i\n",
    "            print(somme)\n",
    "    return somme == n\n",
    "n = int(input(\"entrer un nombre:\"))    \n",
    "if NbParfait(n):\n",
    "    print(n,\"est un nombre parfait\")\n",
    "else:\n",
    "    print(n,\"n'est pas un nombre parfait\")\n",
    "       "
   ]
  },
  {
   "cell_type": "code",
   "execution_count": null,
   "id": "4d382d56-a369-45bb-865b-a6dd11f28c31",
   "metadata": {},
   "outputs": [],
   "source": []
  }
 ],
 "metadata": {
  "kernelspec": {
   "display_name": "Python 3 (ipykernel)",
   "language": "python",
   "name": "python3"
  },
  "language_info": {
   "codemirror_mode": {
    "name": "ipython",
    "version": 3
   },
   "file_extension": ".py",
   "mimetype": "text/x-python",
   "name": "python",
   "nbconvert_exporter": "python",
   "pygments_lexer": "ipython3",
   "version": "3.11.7"
  }
 },
 "nbformat": 4,
 "nbformat_minor": 5
}
