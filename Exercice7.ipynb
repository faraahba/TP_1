{
 "cells": [
  {
   "cell_type": "code",
   "execution_count": 29,
   "id": "980f587b-b697-4311-92a4-cd1dcc7e5021",
   "metadata": {},
   "outputs": [
    {
     "name": "stdin",
     "output_type": "stream",
     "text": [
      "entrer un nombre 3\n"
     ]
    },
    {
     "name": "stdout",
     "output_type": "stream",
     "text": [
      "1\n",
      "5\n",
      "14\n"
     ]
    }
   ],
   "source": [
    "def carre(n):\n",
    "    somme = 0\n",
    "    for i in range(1,n+1):\n",
    "        somme = somme + i**2\n",
    "        print(somme)\n",
    "x = int(input(\"entrer un nombre\"))\n",
    "carre(x)\n",
    "        \n",
    "     "
   ]
  },
  {
   "cell_type": "code",
   "execution_count": null,
   "id": "990febc4-29ba-4f74-b8b8-03b11e5fb094",
   "metadata": {},
   "outputs": [],
   "source": []
  }
 ],
 "metadata": {
  "kernelspec": {
   "display_name": "Python 3 (ipykernel)",
   "language": "python",
   "name": "python3"
  },
  "language_info": {
   "codemirror_mode": {
    "name": "ipython",
    "version": 3
   },
   "file_extension": ".py",
   "mimetype": "text/x-python",
   "name": "python",
   "nbconvert_exporter": "python",
   "pygments_lexer": "ipython3",
   "version": "3.11.7"
  }
 },
 "nbformat": 4,
 "nbformat_minor": 5
}
