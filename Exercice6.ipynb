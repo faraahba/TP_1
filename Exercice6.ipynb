{
 "cells": [
  {
   "cell_type": "code",
   "execution_count": 21,
   "id": "31c44f2d-26ae-4578-8ad4-3b6c32258bb9",
   "metadata": {},
   "outputs": [
    {
     "name": "stdin",
     "output_type": "stream",
     "text": [
      "entrer un nombre 4\n"
     ]
    },
    {
     "name": "stdout",
     "output_type": "stream",
     "text": [
      "4\n",
      "4\n",
      "4\n",
      "4\n",
      "4\n",
      "4\n",
      "4\n",
      "4\n",
      "4\n",
      "4\n"
     ]
    }
   ],
   "source": [
    "def dixSuivant(a):\n",
    "    i=0\n",
    "    for i in range (0,10,1) :\n",
    "        a = a+1\n",
    "        print(a)\n",
    "    \n",
    "x = int(input(\"entrer un nombre\"))\n",
    "dixSuivant(x)    "
   ]
  },
  {
   "cell_type": "code",
   "execution_count": null,
   "id": "a2854a2f-41b4-49a6-a863-8d23ac6532ad",
   "metadata": {},
   "outputs": [],
   "source": []
  }
 ],
 "metadata": {
  "kernelspec": {
   "display_name": "Python 3 (ipykernel)",
   "language": "python",
   "name": "python3"
  },
  "language_info": {
   "codemirror_mode": {
    "name": "ipython",
    "version": 3
   },
   "file_extension": ".py",
   "mimetype": "text/x-python",
   "name": "python",
   "nbconvert_exporter": "python",
   "pygments_lexer": "ipython3",
   "version": "3.11.7"
  }
 },
 "nbformat": 4,
 "nbformat_minor": 5
}
