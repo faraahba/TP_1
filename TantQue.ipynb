{
 "cells": [
  {
   "cell_type": "code",
   "execution_count": null,
   "id": "c81c9369-089b-41fb-bc63-5b5f52f41c47",
   "metadata": {},
   "outputs": [],
   "source": [
    "def dixSuivant(a):\n",
    "    i=0\n",
    "    while (i < 10) :\n",
    "         a = a+1\n",
    "         print(a)\n",
    "         i = i + 1\n",
    "x = int(input(\"entrer un nombre\"))\n",
    "dixSuivant(x)    "
   ]
  },
  {
   "cell_type": "code",
   "execution_count": null,
   "id": "76a48eae-8f16-4c9b-8507-45ba288ac7e6",
   "metadata": {},
   "outputs": [],
   "source": []
  }
 ],
 "metadata": {
  "kernelspec": {
   "display_name": "Python 3 (ipykernel)",
   "language": "python",
   "name": "python3"
  },
  "language_info": {
   "codemirror_mode": {
    "name": "ipython",
    "version": 3
   },
   "file_extension": ".py",
   "mimetype": "text/x-python",
   "name": "python",
   "nbconvert_exporter": "python",
   "pygments_lexer": "ipython3",
   "version": "3.11.7"
  }
 },
 "nbformat": 4,
 "nbformat_minor": 5
}
