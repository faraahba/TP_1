{
 "cells": [
  {
   "cell_type": "code",
   "execution_count": null,
   "id": "1fa1dcff-8bcc-41cc-866a-258be50b1592",
   "metadata": {},
   "outputs": [],
   "source": [
    "import math\n",
    "def equation(a,b,c):\n",
    "    delta = (pow(b,2)+4*a*c)\n",
    "\n",
    "    if (delta>0) :\n",
    "        x1 = (-b-math.sqrt(delta)/2*a)\n",
    "        x2 = (-b+math.sqrt(delta)/2*a)\n",
    "        print(f\"les solutions de l'equation sont {x1} ou {x2}\")\n",
    "    elif (delta==0):\n",
    "        x = (-b/2*a)\n",
    "        print(f\"la solution de l'equation est {x}\")\n",
    "    else:\n",
    "      print(f\"la solution de l'equation est l'ensemble vide\")\n",
    "        \n",
    "x = float(input(\"entrer la valeur de a:\"))\n",
    "y = float(input(\"entrer la valeur de b:\"))\n",
    "z = float(input(\"entrer la valeur de c:\"))\n",
    "equation(x, y, z)"
   ]
  },
  {
   "cell_type": "code",
   "execution_count": null,
   "id": "b3451f5f-a493-41f4-aca7-dab5596945b1",
   "metadata": {},
   "outputs": [],
   "source": []
  }
 ],
 "metadata": {
  "kernelspec": {
   "display_name": "Python 3 (ipykernel)",
   "language": "python",
   "name": "python3"
  },
  "language_info": {
   "codemirror_mode": {
    "name": "ipython",
    "version": 3
   },
   "file_extension": ".py",
   "mimetype": "text/x-python",
   "name": "python",
   "nbconvert_exporter": "python",
   "pygments_lexer": "ipython3",
   "version": "3.11.7"
  }
 },
 "nbformat": 4,
 "nbformat_minor": 5
}
