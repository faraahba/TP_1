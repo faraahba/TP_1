{
 "cells": [
  {
   "cell_type": "code",
   "execution_count": 33,
   "id": "2aada29a-b922-41c5-af5d-81f0d1c45ca4",
   "metadata": {},
   "outputs": [
    {
     "name": "stdin",
     "output_type": "stream",
     "text": [
      "entrer votre sexe :  femme\n",
      "entrer votre age :  20\n"
     ]
    },
    {
     "name": "stdout",
     "output_type": "stream",
     "text": [
      "Vous devez payer l'impot\n"
     ]
    }
   ],
   "source": [
    "def impot(sexe,age):\n",
    "    if ((sexe == \"homme\" and age >= 20) or (sexe == \"femme\" and (age >= 18 and age <= 35 ))) :\n",
    "      print(f\"Vous devez payer l'impot\")\n",
    "    else:\n",
    "      print(f\"Vous ne payez pas l'impot\")\n",
    "\n",
    "\n",
    "s = input(\"entrer votre sexe : \")      \n",
    "a = int(input(\"entrer votre age : \"))\n",
    "impot(s,a)"
   ]
  },
  {
   "cell_type": "code",
   "execution_count": null,
   "id": "972a512f-4270-4e4c-b8c7-f11cc549b8ef",
   "metadata": {},
   "outputs": [],
   "source": []
  },
  {
   "cell_type": "code",
   "execution_count": null,
   "id": "d89e442c-226b-4213-9940-b652f6e149cf",
   "metadata": {},
   "outputs": [],
   "source": []
  }
 ],
 "metadata": {
  "kernelspec": {
   "display_name": "Python 3 (ipykernel)",
   "language": "python",
   "name": "python3"
  },
  "language_info": {
   "codemirror_mode": {
    "name": "ipython",
    "version": 3
   },
   "file_extension": ".py",
   "mimetype": "text/x-python",
   "name": "python",
   "nbconvert_exporter": "python",
   "pygments_lexer": "ipython3",
   "version": "3.11.7"
  }
 },
 "nbformat": 4,
 "nbformat_minor": 5
}
