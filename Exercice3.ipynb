{
 "cells": [
  {
   "cell_type": "code",
   "execution_count": 7,
   "id": "c0351681-6530-4091-93b9-506072aa7e64",
   "metadata": {},
   "outputs": [
    {
     "name": "stdin",
     "output_type": "stream",
     "text": [
      "entrer le temps en secondes :  75777\n"
     ]
    },
    {
     "data": {
      "text/plain": [
       "'T = 75777 secondes = 21 heures 2 minutes 57 secondes'"
      ]
     },
     "execution_count": 7,
     "metadata": {},
     "output_type": "execute_result"
    }
   ],
   "source": [
    "def conversion(x):\n",
    "    h = x//3600\n",
    "    min = (x % 3600) // 60\n",
    "    sec = x % 60\n",
    "    return (f\"T = {x} secondes = {h} heures {min} minutes {sec} secondes\")\n",
    "   \n",
    "\n",
    "temps = int(input(\"entrer le temps en secondes : \"))\n",
    "conversion(temps) \n",
    "\n"
   ]
  },
  {
   "cell_type": "code",
   "execution_count": null,
   "id": "1dd6ae62-14e1-4ddd-b942-fb2a542437e8",
   "metadata": {},
   "outputs": [],
   "source": []
  }
 ],
 "metadata": {
  "kernelspec": {
   "display_name": "Python 3 (ipykernel)",
   "language": "python",
   "name": "python3"
  },
  "language_info": {
   "codemirror_mode": {
    "name": "ipython",
    "version": 3
   },
   "file_extension": ".py",
   "mimetype": "text/x-python",
   "name": "python",
   "nbconvert_exporter": "python",
   "pygments_lexer": "ipython3",
   "version": "3.11.7"
  }
 },
 "nbformat": 4,
 "nbformat_minor": 5
}
