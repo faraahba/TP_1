{
 "cells": [
  {
   "cell_type": "code",
   "execution_count": 11,
   "id": "9c442562-cd3c-4144-a9d3-ec4938eb725b",
   "metadata": {},
   "outputs": [
    {
     "name": "stdin",
     "output_type": "stream",
     "text": [
      "entrer un nombre 3\n"
     ]
    },
    {
     "name": "stdout",
     "output_type": "stream",
     "text": [
      "1111\n"
     ]
    }
   ],
   "source": [
    "\n",
    "def calculer(n):\n",
    "    som = 0\n",
    "    for i in range(n+1) :\n",
    "        som = som + 10**i\n",
    "    print(som)\n",
    "n = int(input(\"entrer un nombre\"))\n",
    "calculer(n)"
   ]
  },
  {
   "cell_type": "code",
   "execution_count": null,
   "id": "06945cd2-cda7-4e91-902a-cf4c8f8a27a1",
   "metadata": {},
   "outputs": [],
   "source": []
  }
 ],
 "metadata": {
  "kernelspec": {
   "display_name": "Python 3 (ipykernel)",
   "language": "python",
   "name": "python3"
  },
  "language_info": {
   "codemirror_mode": {
    "name": "ipython",
    "version": 3
   },
   "file_extension": ".py",
   "mimetype": "text/x-python",
   "name": "python",
   "nbconvert_exporter": "python",
   "pygments_lexer": "ipython3",
   "version": "3.11.7"
  }
 },
 "nbformat": 4,
 "nbformat_minor": 5
}
