{
 "cells": [
  {
   "cell_type": "code",
   "execution_count": 10,
   "id": "f4fcdd8e-dfe8-4ed7-84a7-cfcd2ed0f37c",
   "metadata": {},
   "outputs": [
    {
     "name": "stdin",
     "output_type": "stream",
     "text": [
      "entrer la valeur de a: 2\n",
      "entrer la valeur de b: 5\n",
      "entrer l'operateur: +\n"
     ]
    },
    {
     "name": "stdout",
     "output_type": "stream",
     "text": [
      "7\n"
     ]
    }
   ],
   "source": [
    "def calculer(a,b,op) :\n",
    "    match(op):\n",
    "        case \"+\":\n",
    "            return a + b\n",
    "        case \"-\":\n",
    "            return a - b\n",
    "        case \"*\":\n",
    "            return a * b\n",
    "        case \"/\":\n",
    "            return a / b\n",
    "a = int(input(\"entrer la valeur de a:\"))\n",
    "b = int(input(\"entrer la valeur de b:\"))\n",
    "op = input(\"entrer l'operateur:\")\n",
    "m = calculer(a,b,op)\n",
    "print(m)"
   ]
  },
  {
   "cell_type": "code",
   "execution_count": null,
   "id": "f06e848d-d22c-4f3b-b03c-5483c82726fa",
   "metadata": {},
   "outputs": [],
   "source": []
  }
 ],
 "metadata": {
  "kernelspec": {
   "display_name": "Python 3 (ipykernel)",
   "language": "python",
   "name": "python3"
  },
  "language_info": {
   "codemirror_mode": {
    "name": "ipython",
    "version": 3
   },
   "file_extension": ".py",
   "mimetype": "text/x-python",
   "name": "python",
   "nbconvert_exporter": "python",
   "pygments_lexer": "ipython3",
   "version": "3.11.7"
  }
 },
 "nbformat": 4,
 "nbformat_minor": 5
}
