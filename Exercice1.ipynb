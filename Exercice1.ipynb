{
 "cells": [
  {
   "cell_type": "code",
   "execution_count": 31,
   "id": "8e33fa66-983d-41f2-86ca-006dd5214cb4",
   "metadata": {},
   "outputs": [
    {
     "name": "stdin",
     "output_type": "stream",
     "text": [
      "entrer la note n1: 3\n",
      "entrer la note n2: 21\n",
      "entrer la note n3: 15\n"
     ]
    },
    {
     "name": "stdout",
     "output_type": "stream",
     "text": [
      "les notes entre 0 et 20\n"
     ]
    }
   ],
   "source": [
    "def moyenne(note1,note2,note3):\n",
    "    moyenne=(note1+note2+note3)/3\n",
    "    if (note1>20 or note2>20 or note3>20):\n",
    "      print(\"les notes entre 0 et 20\")\n",
    "    else:\n",
    "            if moyenne >= 16:\n",
    "                print(f\"la moyenne{moyenne}, très bien\")\n",
    "            elif moyenne>=14 and moyenne<=16:\n",
    "                  print(f\"la moyenne{moyenne}, bien\")\n",
    "            elif moyenne>=12 and moyenne<=14:\n",
    "                   print(f\"la moyenne{moyenne}, Assez bien\")\n",
    "            elif moyenne>=10 and moyenne<=12:\n",
    "                  print(f\"la moyenne{moyenne}, passable\")\n",
    "            else:\n",
    "               print(f\"la moyenne{moyenne}, Insuffisant\")\n",
    "\n",
    "note1= float(input(\"entrer la note n1:\"))\n",
    "note2= float(input(\"entrer la note n2:\"))\n",
    "note3= float(input(\"entrer la note n3:\"))\n",
    "moyenne(note1,note2,note3)"
   ]
  },
  {
   "cell_type": "code",
   "execution_count": null,
   "id": "b03d7262-102b-4c92-a1b1-9724e0167388",
   "metadata": {},
   "outputs": [],
   "source": []
  },
  {
   "cell_type": "code",
   "execution_count": null,
   "id": "c9e4c77b-e99e-4687-a61f-e4148b5af6de",
   "metadata": {},
   "outputs": [],
   "source": []
  },
  {
   "cell_type": "code",
   "execution_count": null,
   "id": "59c3aeb3-46a5-432c-878c-4228a8ad93d8",
   "metadata": {},
   "outputs": [],
   "source": []
  }
 ],
 "metadata": {
  "kernelspec": {
   "display_name": "Python 3 (ipykernel)",
   "language": "python",
   "name": "python3"
  },
  "language_info": {
   "codemirror_mode": {
    "name": "ipython",
    "version": 3
   },
   "file_extension": ".py",
   "mimetype": "text/x-python",
   "name": "python",
   "nbconvert_exporter": "python",
   "pygments_lexer": "ipython3",
   "version": "3.11.7"
  }
 },
 "nbformat": 4,
 "nbformat_minor": 5
}
